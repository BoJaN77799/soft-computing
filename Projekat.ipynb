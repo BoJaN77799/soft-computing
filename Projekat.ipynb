{
 "cells": [
  {
   "cell_type": "markdown",
   "id": "5e6de6c4",
   "metadata": {},
   "source": [
    "# PROJEKAT"
   ]
  },
  {
   "cell_type": "code",
   "execution_count": 2,
   "id": "777d7984",
   "metadata": {},
   "outputs": [],
   "source": [
    "import numpy as np\n",
    "import cv2\n",
    "import matplotlib.pyplot as plt\n",
    "import dlib"
   ]
  },
  {
   "cell_type": "code",
   "execution_count": 3,
   "id": "1dbffcf8",
   "metadata": {},
   "outputs": [],
   "source": [
    "def loadImageAnd2Gray(path):\n",
    "    img_haar = cv2.imread(path)\n",
    "    return cv2.cvtColor(img_haar, cv2.COLOR_BGR2GRAY)"
   ]
  },
  {
   "cell_type": "code",
   "execution_count": 4,
   "id": "3f7cd700",
   "metadata": {},
   "outputs": [],
   "source": [
    "def display_gray_image(image):\n",
    "    plt.imshow(image, 'gray')\n",
    "    \n",
    "def display_image(image):\n",
    "    plt.imshow(image)"
   ]
  },
  {
   "cell_type": "code",
   "execution_count": 5,
   "id": "145aaa22",
   "metadata": {},
   "outputs": [],
   "source": [
    "def draw_coords(image, coords):\n",
    "    cv2.drawContours(image, [coords], -1, (255,255,255), 3)"
   ]
  },
  {
   "cell_type": "code",
   "execution_count": 6,
   "id": "ae7f6e2e",
   "metadata": {},
   "outputs": [],
   "source": [
    "def to_np_array(pose_landmarks, el_num=68, dtype=\"int\"):\n",
    "    coords = np.zeros((el_num, 2), dtype=dtype)\n",
    "    \n",
    "    for i in range(0, el_num):\n",
    "        coords[i] = (pose_landmarks.part(i).x, pose_landmarks.part(i).y)\n",
    "    \n",
    "    return coords"
   ]
  },
  {
   "cell_type": "code",
   "execution_count": 45,
   "id": "ed0eeac7",
   "metadata": {},
   "outputs": [],
   "source": [
    "def draw_circle(image, coords):\n",
    "    cv2.circle(img, (coords[0], coords[1]), 25, (255, 255, 255), 2)"
   ]
  },
  {
   "cell_type": "markdown",
   "id": "2e81232b",
   "metadata": {},
   "source": [
    "# Korisne stvari\n",
    "cv2.rectangle(img, (x,y), (x+w, y+h), (0, 0 , 255), 3) -> iscrtavanje faca na ulaznoj slici"
   ]
  },
  {
   "cell_type": "markdown",
   "id": "d3e1819a",
   "metadata": {},
   "source": [
    "# Preoznavanje face sa haar-om"
   ]
  },
  {
   "cell_type": "code",
   "execution_count": 10,
   "id": "6460b3b9",
   "metadata": {},
   "outputs": [
    {
     "name": "stdout",
     "output_type": "stream",
     "text": [
      "-Faces found: 1\n"
     ]
    }
   ],
   "source": [
    "img = loadImageAnd2Gray('git_1.jpg')\n",
    "\n",
    "face_cascade = cv2.CascadeClassifier('haarcascade_frontalface_default.xml')\n",
    "faces = face_cascade.detectMultiScale(img, scaleFactor=1.3, minNeighbors=4, minSize=(120, 120), flags=cv2.CASCADE_SCALE_IMAGE)\n",
    "print(\"-Faces found: {}\".format(len(faces)))\n",
    "\n",
    "i = 0\n",
    "for (x, y , w ,h) in faces:\n",
    "    face_rect = dlib.rectangle(x, y, x + w, y + h)\n",
    "    aligned_face = align_face(face_rect)\n",
    "    if i == 10:\n",
    "        display_gray_image(aligned_face)\n",
    "    i += 1"
   ]
  },
  {
   "cell_type": "markdown",
   "id": "53fb63a4",
   "metadata": {},
   "source": [
    "# Prepoznavanje face sa hog-om"
   ]
  },
  {
   "cell_type": "code",
   "execution_count": 11,
   "id": "71baab0a",
   "metadata": {},
   "outputs": [
    {
     "name": "stdout",
     "output_type": "stream",
     "text": [
      "-Faces found: 2\n"
     ]
    }
   ],
   "source": [
    "img = loadImageAnd2Gray('git_1.jpg')\n",
    "\n",
    "face_detector = dlib.get_frontal_face_detector()\n",
    "faces = face_detector(img, 1)\n",
    "print(\"-Faces found: {}\".format(len(faces)))\n",
    "\n",
    "i = 0\n",
    "for face_rect in faces:\n",
    "    aligned_face = align_face(face_rect)\n",
    "    if i == 10:\n",
    "        display_gray_image(aligned_face)\n",
    "    i += 0"
   ]
  },
  {
   "cell_type": "markdown",
   "id": "ec58a33a",
   "metadata": {},
   "source": [
    "# Pronalazenje 68 tacaka i cetriranje"
   ]
  },
  {
   "cell_type": "code",
   "execution_count": 8,
   "id": "54ef78ba",
   "metadata": {},
   "outputs": [],
   "source": [
    "predictor_model = \"shape_predictor_68_face_landmarks.dat\"\n",
    "face_pose_predictor = dlib.shape_predictor(predictor_model)\n",
    "DESIRED_LEFT_EYE = (0.35, 0.35)\n",
    "DESIRED_RIGHT_EYE = (0.65, 0.35)\n",
    "DESIRED_FACE_WIDTH = 256\n",
    "DESIRED_FACE_HEIGHT = 256"
   ]
  },
  {
   "cell_type": "code",
   "execution_count": 9,
   "id": "7ce5ba8a",
   "metadata": {},
   "outputs": [],
   "source": [
    "def align_face(face_rect, verbose=False):\n",
    "\n",
    "    pose_landmarks = face_pose_predictor(img, face_rect)\n",
    "    landmark_coords = to_np_array(pose_landmarks)\n",
    "\n",
    "    left_eye_coords = landmark_coords[36:41]\n",
    "    right_eye_coords = landmark_coords[42:47]\n",
    "    \n",
    "    if verbose:\n",
    "        draw_coords(img, landmark_coords)\n",
    "        draw_coords(img, left_eye_coords)\n",
    "        draw_coords(img, right_eye_coords)\n",
    "\n",
    "    left_eye_center = left_eye_coords.mean(axis=0).astype(\"int\")\n",
    "    right_eye_center = right_eye_coords.mean(axis=0).astype(\"int\")\n",
    "\n",
    "    dx = right_eye_center[1] - left_eye_center[1]\n",
    "    dy = right_eye_center[0] - left_eye_center[0]\n",
    "    angle = np.degrees(np.arctan2(dx, dy)) # - 180\n",
    "\n",
    "    dist = np.sqrt((dx * dx) + (dy * dy))\n",
    "    desiredDist = (DESIRED_RIGHT_EYE[0] - DESIRED_LEFT_EYE[0])\n",
    "    desiredDist *= DESIRED_FACE_WIDTH\n",
    "    scale = desiredDist / dist\n",
    "\n",
    "    eyes_center = ((left_eye_center[0] + right_eye_center[0]) // 2, (left_eye_center[1] + right_eye_center[1]) // 2)\n",
    "    M = cv2.getRotationMatrix2D(eyes_center, angle, scale)\n",
    "    tx = DESIRED_FACE_WIDTH * 0.5\n",
    "    ty = DESIRED_FACE_HEIGHT * DESIRED_LEFT_EYE[1]\n",
    "    M[0, 2] += (tx - eyes_center[0])\n",
    "    M[1, 2] += (ty - eyes_center[1])\n",
    "\n",
    "    (w, h) = (DESIRED_FACE_WIDTH, DESIRED_FACE_HEIGHT)\n",
    "    aligned_face = cv2.warpAffine(img, M, (w, h), flags=cv2.INTER_CUBIC)\n",
    "\n",
    "    return aligned_face"
   ]
  },
  {
   "cell_type": "markdown",
   "id": "e202314c",
   "metadata": {},
   "source": [
    "# Ekstrakcija obelezja hog-om"
   ]
  },
  {
   "cell_type": "code",
   "execution_count": null,
   "id": "89ece61a",
   "metadata": {},
   "outputs": [],
   "source": [
    "hog = cv2.HOGDescriptor()"
   ]
  },
  {
   "cell_type": "code",
   "execution_count": 100,
   "id": "2fcb06d1",
   "metadata": {},
   "outputs": [],
   "source": [
    "img_hog = loadImageAnd2Gray('git_1.jpg')\n",
    "face_images = []\n",
    "\n",
    "for (x, y , w ,h) in faces:\n",
    "    face_img = img[y:y+h, x:x+w]\n",
    "    face_img = cv2.resize(face_img, (100, 110), interpolation=cv2.INTER_NEAREST)\n",
    "    face_images.append(face_img)\n",
    "\n",
    "# display_gray_image(face_images[2])"
   ]
  },
  {
   "cell_type": "code",
   "execution_count": 10,
   "id": "416f8ad1",
   "metadata": {},
   "outputs": [],
   "source": [
    "nbins = 9             # broj binova\n",
    "cell_size = (8, 8)    # broj piksela po celiji\n",
    "block_size = (3, 3)   # broj celija po bloku\n",
    "\n",
    "img_for_shapes = face_images[0] \n",
    "\n",
    "hog = cv2.HOGDescriptor(_winSize=(img_for_shapes.shape[1] // cell_size[1] * cell_size[1], \n",
    "                                  img_for_shapes.shape[0] // cell_size[0] * cell_size[0]),\n",
    "                        _blockSize=(block_size[1] * cell_size[1],\n",
    "                                    block_size[0] * cell_size[0]),\n",
    "                        _blockStride=(cell_size[1], cell_size[0]),\n",
    "                        _cellSize=(cell_size[1], cell_size[0]),\n",
    "                        _nbins=nbins)"
   ]
  }
 ],
 "metadata": {
  "kernelspec": {
   "display_name": "Python 3",
   "language": "python",
   "name": "python3"
  },
  "language_info": {
   "codemirror_mode": {
    "name": "ipython",
    "version": 3
   },
   "file_extension": ".py",
   "mimetype": "text/x-python",
   "name": "python",
   "nbconvert_exporter": "python",
   "pygments_lexer": "ipython3",
   "version": "3.6.13"
  }
 },
 "nbformat": 4,
 "nbformat_minor": 5
}
