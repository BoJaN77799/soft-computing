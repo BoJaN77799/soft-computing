{
 "cells": [
  {
   "cell_type": "markdown",
   "id": "5e6de6c4",
   "metadata": {},
   "source": [
    "# PROJEKAT"
   ]
  },
  {
   "cell_type": "code",
   "execution_count": 1,
   "id": "777d7984",
   "metadata": {},
   "outputs": [],
   "source": [
    "import numpy as np\n",
    "import cv2\n",
    "import matplotlib.pyplot as plt\n",
    "import dlib"
   ]
  },
  {
   "cell_type": "code",
   "execution_count": 2,
   "id": "1dbffcf8",
   "metadata": {},
   "outputs": [],
   "source": [
    "def loadImageAnd2Gray(path):\n",
    "    img_haar = cv2.imread(path)\n",
    "    return cv2.cvtColor(img_haar, cv2.COLOR_BGR2GRAY)"
   ]
  },
  {
   "cell_type": "code",
   "execution_count": 3,
   "id": "3f7cd700",
   "metadata": {},
   "outputs": [],
   "source": [
    "def display_gray_image(image):\n",
    "    plt.imshow(image, 'gray')\n",
    "    \n",
    "def display_image(image):\n",
    "    plt.imshow(image)"
   ]
  },
  {
   "cell_type": "code",
   "execution_count": 4,
   "id": "145aaa22",
   "metadata": {},
   "outputs": [],
   "source": [
    "def draw_coords(image, coords):\n",
    "    cv2.drawContours(image, [coords], -1, (255,255,255), 3)"
   ]
  },
  {
   "cell_type": "code",
   "execution_count": 5,
   "id": "ae7f6e2e",
   "metadata": {},
   "outputs": [],
   "source": [
    "def to_np_array(pose_landmarks, el_num=68, dtype=\"int\"):\n",
    "    coords = np.zeros((el_num, 2), dtype=dtype)\n",
    "    \n",
    "    for i in range(0, el_num):\n",
    "        coords[i] = (pose_landmarks.part(i).x, pose_landmarks.part(i).y)\n",
    "    \n",
    "    return coords"
   ]
  },
  {
   "cell_type": "code",
   "execution_count": 6,
   "id": "ed0eeac7",
   "metadata": {},
   "outputs": [],
   "source": [
    "def draw_circle(image, coords):\n",
    "    cv2.circle(image, (coords[0], coords[1]), 25, (255, 255, 255), 2)"
   ]
  },
  {
   "cell_type": "markdown",
   "id": "2e81232b",
   "metadata": {},
   "source": [
    "# Korisne stvari\n",
    "cv2.rectangle(img, (x,y), (x+w, y+h), (0, 0 , 255), 3) -> iscrtavanje faca na ulaznoj slici"
   ]
  },
  {
   "cell_type": "markdown",
   "id": "ec58a33a",
   "metadata": {},
   "source": [
    "# Pronalazenje 68 tacaka i cetriranje"
   ]
  },
  {
   "cell_type": "code",
   "execution_count": 7,
   "id": "54ef78ba",
   "metadata": {},
   "outputs": [],
   "source": [
    "predictor_model = \"shape_predictor_68_face_landmarks.dat\"\n",
    "face_pose_predictor = dlib.shape_predictor(predictor_model)\n",
    "DESIRED_LEFT_EYE = (0.35, 0.35)\n",
    "DESIRED_RIGHT_EYE = (0.65, 0.35)\n",
    "DESIRED_FACE_WIDTH = 256\n",
    "DESIRED_FACE_HEIGHT = 256"
   ]
  },
  {
   "cell_type": "code",
   "execution_count": 8,
   "id": "7ce5ba8a",
   "metadata": {},
   "outputs": [],
   "source": [
    "def align_face(face_rect, verbose=False):\n",
    "\n",
    "    pose_landmarks = face_pose_predictor(img, face_rect)\n",
    "    landmark_coords = to_np_array(pose_landmarks)\n",
    "\n",
    "    left_eye_coords = landmark_coords[36:41]\n",
    "    right_eye_coords = landmark_coords[42:47]\n",
    "    \n",
    "    if verbose:\n",
    "        draw_coords(img, landmark_coords)\n",
    "        draw_coords(img, left_eye_coords)\n",
    "        draw_coords(img, right_eye_coords)\n",
    "\n",
    "    left_eye_center = left_eye_coords.mean(axis=0).astype(\"int\")\n",
    "    right_eye_center = right_eye_coords.mean(axis=0).astype(\"int\")\n",
    "\n",
    "    dx = right_eye_center[1] - left_eye_center[1]\n",
    "    dy = right_eye_center[0] - left_eye_center[0]\n",
    "    angle = np.degrees(np.arctan2(dx, dy)) # - 180\n",
    "\n",
    "    dist = np.sqrt((dx * dx) + (dy * dy))\n",
    "    desiredDist = (DESIRED_RIGHT_EYE[0] - DESIRED_LEFT_EYE[0])\n",
    "    desiredDist *= DESIRED_FACE_WIDTH\n",
    "    scale = desiredDist / dist\n",
    "\n",
    "    eyes_center = ((left_eye_center[0] + right_eye_center[0]) // 2, (left_eye_center[1] + right_eye_center[1]) // 2)\n",
    "    M = cv2.getRotationMatrix2D(eyes_center, angle, scale)\n",
    "    tx = DESIRED_FACE_WIDTH * 0.5\n",
    "    ty = DESIRED_FACE_HEIGHT * DESIRED_LEFT_EYE[1]\n",
    "    M[0, 2] += (tx - eyes_center[0])\n",
    "    M[1, 2] += (ty - eyes_center[1])\n",
    "\n",
    "    (w, h) = (DESIRED_FACE_WIDTH, DESIRED_FACE_HEIGHT)\n",
    "    aligned_face = cv2.warpAffine(img, M, (w, h), flags=cv2.INTER_CUBIC)\n",
    "\n",
    "    return aligned_face"
   ]
  },
  {
   "cell_type": "markdown",
   "id": "e202314c",
   "metadata": {},
   "source": [
    "# Ekstrakcija obelezja hog-om"
   ]
  },
  {
   "cell_type": "code",
   "execution_count": 9,
   "id": "493adec5",
   "metadata": {},
   "outputs": [],
   "source": [
    "IMAGE_ROWS = 256\n",
    "IMAGE_COLS = 256\n",
    "NBINS = 9             # broj binova\n",
    "CELL_SIZE = (8, 8)    # broj piksela po celiji\n",
    "BLOCK_SIZE = (3, 3)   # broj celija po bloku"
   ]
  },
  {
   "cell_type": "code",
   "execution_count": 10,
   "id": "eec6ffff",
   "metadata": {},
   "outputs": [],
   "source": [
    "def extract_hog_features(hog, aligned_image):\n",
    "    return hog.compute(aligned_image)"
   ]
  },
  {
   "cell_type": "code",
   "execution_count": 11,
   "id": "416f8ad1",
   "metadata": {},
   "outputs": [],
   "source": [
    "hog = cv2.HOGDescriptor(_winSize=(IMAGE_COLS // CELL_SIZE[1] * CELL_SIZE[1], \n",
    "                                  IMAGE_ROWS // CELL_SIZE[0] * CELL_SIZE[0]),\n",
    "                        _blockSize=(BLOCK_SIZE[1] * CELL_SIZE[1],\n",
    "                                    BLOCK_SIZE[0] * CELL_SIZE[0]),\n",
    "                        _blockStride=(CELL_SIZE[1], CELL_SIZE[0]),\n",
    "                        _cellSize=(CELL_SIZE[1], CELL_SIZE[0]),\n",
    "                        _nbins=NBINS)"
   ]
  },
  {
   "cell_type": "markdown",
   "id": "d3e1819a",
   "metadata": {},
   "source": [
    "# Preoznavanje face sa haar-om"
   ]
  },
  {
   "cell_type": "code",
   "execution_count": 17,
   "id": "cc77a5b4",
   "metadata": {},
   "outputs": [],
   "source": [
    "face_cascade = cv2.CascadeClassifier('haarcascade_frontalface_default.xml')"
   ]
  },
  {
   "cell_type": "code",
   "execution_count": 61,
   "id": "6460b3b9",
   "metadata": {},
   "outputs": [],
   "source": [
    "def detect_and_extract_faces_haar(img_path, train=False, verbose=False):\n",
    "    img = loadImageAnd2Gray(img_path)\n",
    "    extracted_faces_features = []\n",
    "    \n",
    "    faces = face_cascade.detectMultiScale(img, scaleFactor=1.3, minNeighbors=4, minSize=(30, 30), flags=cv2.CASCADE_SCALE_IMAGE)\n",
    "    \n",
    "    if train and len(faces) > 1:\n",
    "        return None\n",
    "    \n",
    "    if verbose:\n",
    "        print(\"-Faces found: {}\".format(len(faces)))\n",
    "\n",
    "    for (x, y , w ,h) in faces:\n",
    "        face_rect = dlib.rectangle(x, y, x + w, y + h)\n",
    "        \n",
    "        aligned_face = align_face(face_rect)\n",
    "        \n",
    "        extracted_face_features = extract_hog_features(hog, aligned_face)\n",
    "        extracted_faces_features.append(extracted_face_features)\n",
    "    \n",
    "    return extracted_faces_features"
   ]
  },
  {
   "cell_type": "markdown",
   "id": "53fb63a4",
   "metadata": {},
   "source": [
    "# Prepoznavanje face sa hog-om"
   ]
  },
  {
   "cell_type": "code",
   "execution_count": 19,
   "id": "b8ba0815",
   "metadata": {},
   "outputs": [],
   "source": [
    "face_detector = dlib.get_frontal_face_detector()"
   ]
  },
  {
   "cell_type": "code",
   "execution_count": 62,
   "id": "71baab0a",
   "metadata": {},
   "outputs": [],
   "source": [
    "def detect_and_extract_faces_hog(img_path, verbose=False):\n",
    "    img = loadImageAnd2Gray(img_path)\n",
    "    extracted_faces_features = []\n",
    "\n",
    "    faces = face_detector(img, 1)\n",
    "\n",
    "    if verbose:\n",
    "            print(\"-Faces found: {}\".format(len(faces)))\n",
    "\n",
    "    for face_rect in faces:\n",
    "        aligned_face = align_face(face_rect)\n",
    "\n",
    "        extracted_face_features = extract_hog_features(hog, aligned_face)\n",
    "        extracted_faces_features.append(extracted_face_features)\n",
    "\n",
    "    return extracted_faces_features"
   ]
  },
  {
   "cell_type": "code",
   "execution_count": 112,
   "id": "701acddc",
   "metadata": {
    "scrolled": true
   },
   "outputs": [
    {
     "ename": "error",
     "evalue": "C:\\ci\\opencv_1512688052760\\work\\modules\\imgproc\\src\\color.cpp:11048: error: (-215) scn == 3 || scn == 4 in function cv::cvtColor\n",
     "output_type": "error",
     "traceback": [
      "\u001b[1;31m---------------------------------------------------------------------------\u001b[0m",
      "\u001b[1;31merror\u001b[0m                                     Traceback (most recent call last)",
      "\u001b[1;32m<ipython-input-112-bbe80a15174d>\u001b[0m in \u001b[0;36m<module>\u001b[1;34m\u001b[0m\n\u001b[0;32m     22\u001b[0m         \u001b[0my_train\u001b[0m\u001b[1;33m.\u001b[0m\u001b[0mappend\u001b[0m\u001b[1;33m(\u001b[0m\u001b[1;36m1\u001b[0m\u001b[1;33m)\u001b[0m\u001b[1;33m\u001b[0m\u001b[1;33m\u001b[0m\u001b[0m\n\u001b[0;32m     23\u001b[0m \u001b[1;33m\u001b[0m\u001b[0m\n\u001b[1;32m---> 24\u001b[1;33m \u001b[0mx_test\u001b[0m \u001b[1;33m=\u001b[0m \u001b[0mload_x\u001b[0m\u001b[1;33m(\u001b[0m\u001b[1;33m)\u001b[0m\u001b[1;33m\u001b[0m\u001b[1;33m\u001b[0m\u001b[0m\n\u001b[0m\u001b[0;32m     25\u001b[0m \u001b[1;33m\u001b[0m\u001b[0m\n\u001b[0;32m     26\u001b[0m \u001b[0my_test\u001b[0m \u001b[1;33m=\u001b[0m \u001b[1;33m[\u001b[0m\u001b[1;36m1\u001b[0m\u001b[1;33m,\u001b[0m \u001b[1;36m1\u001b[0m\u001b[1;33m,\u001b[0m \u001b[1;36m1\u001b[0m\u001b[1;33m]\u001b[0m\u001b[1;33m\u001b[0m\u001b[1;33m\u001b[0m\u001b[0m\n",
      "\u001b[1;32m<ipython-input-111-0f9c20bdeae6>\u001b[0m in \u001b[0;36mload_x\u001b[1;34m()\u001b[0m\n\u001b[0;32m     22\u001b[0m \u001b[1;33m\u001b[0m\u001b[0m\n\u001b[0;32m     23\u001b[0m     \u001b[0mpath\u001b[0m \u001b[1;33m=\u001b[0m \u001b[1;34m\"Test/bp3_test.jpeg\"\u001b[0m\u001b[1;33m\u001b[0m\u001b[1;33m\u001b[0m\u001b[0m\n\u001b[1;32m---> 24\u001b[1;33m     \u001b[0mhoged\u001b[0m \u001b[1;33m=\u001b[0m \u001b[0mdetect_and_extract_faces_haar\u001b[0m\u001b[1;33m(\u001b[0m\u001b[0mpath\u001b[0m\u001b[1;33m)\u001b[0m\u001b[1;33m\u001b[0m\u001b[1;33m\u001b[0m\u001b[0m\n\u001b[0m\u001b[0;32m     25\u001b[0m     \u001b[1;32mfor\u001b[0m \u001b[0mhog\u001b[0m \u001b[1;32min\u001b[0m \u001b[0mhoged\u001b[0m\u001b[1;33m:\u001b[0m\u001b[1;33m\u001b[0m\u001b[1;33m\u001b[0m\u001b[0m\n\u001b[0;32m     26\u001b[0m         \u001b[0mhog\u001b[0m \u001b[1;33m=\u001b[0m \u001b[0mhog\u001b[0m\u001b[1;33m.\u001b[0m\u001b[0mflatten\u001b[0m\u001b[1;33m(\u001b[0m\u001b[1;33m)\u001b[0m\u001b[1;33m\u001b[0m\u001b[1;33m\u001b[0m\u001b[0m\n",
      "\u001b[1;32m<ipython-input-61-1196d3a6cc87>\u001b[0m in \u001b[0;36mdetect_and_extract_faces_haar\u001b[1;34m(img_path, train, verbose)\u001b[0m\n\u001b[0;32m      1\u001b[0m \u001b[1;32mdef\u001b[0m \u001b[0mdetect_and_extract_faces_haar\u001b[0m\u001b[1;33m(\u001b[0m\u001b[0mimg_path\u001b[0m\u001b[1;33m,\u001b[0m \u001b[0mtrain\u001b[0m\u001b[1;33m=\u001b[0m\u001b[1;32mFalse\u001b[0m\u001b[1;33m,\u001b[0m \u001b[0mverbose\u001b[0m\u001b[1;33m=\u001b[0m\u001b[1;32mFalse\u001b[0m\u001b[1;33m)\u001b[0m\u001b[1;33m:\u001b[0m\u001b[1;33m\u001b[0m\u001b[1;33m\u001b[0m\u001b[0m\n\u001b[1;32m----> 2\u001b[1;33m     \u001b[0mimg\u001b[0m \u001b[1;33m=\u001b[0m \u001b[0mloadImageAnd2Gray\u001b[0m\u001b[1;33m(\u001b[0m\u001b[0mimg_path\u001b[0m\u001b[1;33m)\u001b[0m\u001b[1;33m\u001b[0m\u001b[1;33m\u001b[0m\u001b[0m\n\u001b[0m\u001b[0;32m      3\u001b[0m     \u001b[0mextracted_faces_features\u001b[0m \u001b[1;33m=\u001b[0m \u001b[1;33m[\u001b[0m\u001b[1;33m]\u001b[0m\u001b[1;33m\u001b[0m\u001b[1;33m\u001b[0m\u001b[0m\n\u001b[0;32m      4\u001b[0m \u001b[1;33m\u001b[0m\u001b[0m\n\u001b[0;32m      5\u001b[0m     \u001b[0mfaces\u001b[0m \u001b[1;33m=\u001b[0m \u001b[0mface_cascade\u001b[0m\u001b[1;33m.\u001b[0m\u001b[0mdetectMultiScale\u001b[0m\u001b[1;33m(\u001b[0m\u001b[0mimg\u001b[0m\u001b[1;33m,\u001b[0m \u001b[0mscaleFactor\u001b[0m\u001b[1;33m=\u001b[0m\u001b[1;36m1.3\u001b[0m\u001b[1;33m,\u001b[0m \u001b[0mminNeighbors\u001b[0m\u001b[1;33m=\u001b[0m\u001b[1;36m4\u001b[0m\u001b[1;33m,\u001b[0m \u001b[0mminSize\u001b[0m\u001b[1;33m=\u001b[0m\u001b[1;33m(\u001b[0m\u001b[1;36m30\u001b[0m\u001b[1;33m,\u001b[0m \u001b[1;36m30\u001b[0m\u001b[1;33m)\u001b[0m\u001b[1;33m,\u001b[0m \u001b[0mflags\u001b[0m\u001b[1;33m=\u001b[0m\u001b[0mcv2\u001b[0m\u001b[1;33m.\u001b[0m\u001b[0mCASCADE_SCALE_IMAGE\u001b[0m\u001b[1;33m)\u001b[0m\u001b[1;33m\u001b[0m\u001b[1;33m\u001b[0m\u001b[0m\n",
      "\u001b[1;32m<ipython-input-2-1528caed3160>\u001b[0m in \u001b[0;36mloadImageAnd2Gray\u001b[1;34m(path)\u001b[0m\n\u001b[0;32m      1\u001b[0m \u001b[1;32mdef\u001b[0m \u001b[0mloadImageAnd2Gray\u001b[0m\u001b[1;33m(\u001b[0m\u001b[0mpath\u001b[0m\u001b[1;33m)\u001b[0m\u001b[1;33m:\u001b[0m\u001b[1;33m\u001b[0m\u001b[1;33m\u001b[0m\u001b[0m\n\u001b[0;32m      2\u001b[0m     \u001b[0mimg_haar\u001b[0m \u001b[1;33m=\u001b[0m \u001b[0mcv2\u001b[0m\u001b[1;33m.\u001b[0m\u001b[0mimread\u001b[0m\u001b[1;33m(\u001b[0m\u001b[0mpath\u001b[0m\u001b[1;33m)\u001b[0m\u001b[1;33m\u001b[0m\u001b[1;33m\u001b[0m\u001b[0m\n\u001b[1;32m----> 3\u001b[1;33m     \u001b[1;32mreturn\u001b[0m \u001b[0mcv2\u001b[0m\u001b[1;33m.\u001b[0m\u001b[0mcvtColor\u001b[0m\u001b[1;33m(\u001b[0m\u001b[0mimg_haar\u001b[0m\u001b[1;33m,\u001b[0m \u001b[0mcv2\u001b[0m\u001b[1;33m.\u001b[0m\u001b[0mCOLOR_BGR2GRAY\u001b[0m\u001b[1;33m)\u001b[0m\u001b[1;33m\u001b[0m\u001b[1;33m\u001b[0m\u001b[0m\n\u001b[0m",
      "\u001b[1;31merror\u001b[0m: C:\\ci\\opencv_1512688052760\\work\\modules\\imgproc\\src\\color.cpp:11048: error: (-215) scn == 3 || scn == 4 in function cv::cvtColor\n"
     ]
    }
   ],
   "source": [
    "path_begin_a = \"Andjelina/aj\"\n",
    "path_begin_b = \"Bred/bp\"\n",
    "path_end = \".jpeg\"\n",
    "\n",
    "x_train = []\n",
    "y_train = []\n",
    "\n",
    "for i in range(10):\n",
    "    path_a = path_begin_a + str(i + 1) + path_end\n",
    "    path_b = path_begin_b + str(i + 1) + path_end\n",
    "    \n",
    "    hoged = detect_and_extract_faces_haar(path_a, True)\n",
    "    if hoged != None:\n",
    "        hoged[0] = hoged[0].flatten()\n",
    "        x_train.append(hoged[0])\n",
    "        y_train.append(0)\n",
    "\n",
    "    hoged = detect_and_extract_faces_haar(path_b, True)\n",
    "    if hoged != None:\n",
    "        hoged[0] = hoged[0].flatten()\n",
    "        x_train.append(hoged[0])\n",
    "        y_train.append(1)\n",
    "\n",
    "x_test = load_x()\n",
    "\n",
    "y_test = [1, 1, 1] \n",
    "        \n",
    "from sklearn.svm import SVC\n",
    "\n",
    "svm_model_linear = SVC(kernel = 'linear', C = 1).fit(x_train, y_train)\n",
    "svm_predictions = svm_model_linear.predict(x_test)\n",
    "accuracy = svm_model_linear.score(x_test, y_test)\n",
    "print(accuracy)"
   ]
  },
  {
   "cell_type": "code",
   "execution_count": 111,
   "id": "649118ea",
   "metadata": {},
   "outputs": [],
   "source": [
    "def load_x(): \n",
    "    x_test = []\n",
    "    \n",
    "#     path = \"Test/aj1_test.jpeg\"\n",
    "#     hoged = detect_and_extract_faces_haar(path)\n",
    "#     for hog in hoged:\n",
    "#         hog = hog.flatten()\n",
    "#         x_test.append(hog)\n",
    "\n",
    "    \n",
    "    path = \"Test/bp1_test.jpeg\"\n",
    "    hoged = detect_and_extract_faces_haar(path)\n",
    "    for hog in hoged:\n",
    "        hog = hog.flatten()\n",
    "        x_test.append(hog)\n",
    "    \n",
    "    path = \"Test/bp2_test.jpeg\"\n",
    "    hoged = detect_and_extract_faces_haar(path)\n",
    "    for hog in hoged:\n",
    "        hog = hog.flatten()\n",
    "        x_test.append(hog)\n",
    "    \n",
    "    path = \"Test/bp3_test.jpeg\"\n",
    "    hoged = detect_and_extract_faces_haar(path)\n",
    "    for hog in hoged:\n",
    "        hog = hog.flatten()\n",
    "        x_test.append(hog)\n",
    "    \n",
    "#     print(len(y_test))\n",
    "\n",
    "    return x_test"
   ]
  }
 ],
 "metadata": {
  "kernelspec": {
   "display_name": "Python 3",
   "language": "python",
   "name": "python3"
  },
  "language_info": {
   "codemirror_mode": {
    "name": "ipython",
    "version": 3
   },
   "file_extension": ".py",
   "mimetype": "text/x-python",
   "name": "python",
   "nbconvert_exporter": "python",
   "pygments_lexer": "ipython3",
   "version": "3.6.13"
  }
 },
 "nbformat": 4,
 "nbformat_minor": 5
}
