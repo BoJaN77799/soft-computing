{
 "cells": [
  {
   "cell_type": "markdown",
   "id": "5e6de6c4",
   "metadata": {},
   "source": [
    "# PROJEKAT"
   ]
  },
  {
   "cell_type": "code",
   "execution_count": 20,
   "id": "777d7984",
   "metadata": {},
   "outputs": [],
   "source": [
    "import numpy as np\n",
    "import cv2\n",
    "import matplotlib.pyplot as plt\n",
    "import dlib"
   ]
  },
  {
   "cell_type": "code",
   "execution_count": 2,
   "id": "1dbffcf8",
   "metadata": {},
   "outputs": [],
   "source": [
    "def loadImageAnd2Gray(path):\n",
    "    img_haar = cv2.imread(path)\n",
    "    return cv2.cvtColor(img_haar, cv2.COLOR_BGR2GRAY)"
   ]
  },
  {
   "cell_type": "code",
   "execution_count": 3,
   "id": "3f7cd700",
   "metadata": {},
   "outputs": [],
   "source": [
    "def display_gray_image(image):\n",
    "    plt.imshow(image, 'gray')\n",
    "    \n",
    "def display_image(image):\n",
    "    plt.imshow(image)"
   ]
  },
  {
   "cell_type": "code",
   "execution_count": 4,
   "id": "145aaa22",
   "metadata": {},
   "outputs": [],
   "source": [
    "def draw_coords(image, coords):\n",
    "    cv2.drawContours(image, [coords], -1, (255,255,255), 3)"
   ]
  },
  {
   "cell_type": "code",
   "execution_count": 5,
   "id": "ae7f6e2e",
   "metadata": {},
   "outputs": [],
   "source": [
    "def to_np_array(pose_landmarks, el_num=68, dtype=\"int\"):\n",
    "    coords = np.zeros((el_num, 2), dtype=dtype)\n",
    "    \n",
    "    for i in range(0, el_num):\n",
    "        coords[i] = (pose_landmarks.part(i).x, pose_landmarks.part(i).y)\n",
    "    \n",
    "    return coords"
   ]
  },
  {
   "cell_type": "code",
   "execution_count": 6,
   "id": "ed0eeac7",
   "metadata": {},
   "outputs": [],
   "source": [
    "def draw_circle(image, coords):\n",
    "    cv2.circle(image, (coords[0], coords[1]), 25, (255, 255, 255), 2)"
   ]
  },
  {
   "cell_type": "code",
   "execution_count": 7,
   "id": "d98bfcdb",
   "metadata": {},
   "outputs": [],
   "source": [
    "def show_faces_with_contures(path):\n",
    "    face_cascade_classifier = cv2.CascadeClassifier('haarcascade_frontalface_default.xml')\n",
    "    \n",
    "    img = loadImageAnd2Gray(path)\n",
    "\n",
    "    faces = face_cascade_classifier.detectMultiScale(img, scaleFactor=1.3, minNeighbors=4, minSize=(30, 30), \n",
    "                                              flags=cv2.CASCADE_SCALE_IMAGE)\n",
    "\n",
    "    for (x, y , w ,h) in faces:\n",
    "        face_rect = dlib.rectangle(x, y, x + w, y + h)\n",
    "        aligned_face = align_face(img, face_rect)\n",
    "\n",
    "    display_gray_image(img)"
   ]
  },
  {
   "cell_type": "markdown",
   "id": "2e81232b",
   "metadata": {},
   "source": [
    "# Korisne stvari\n",
    "cv2.rectangle(img, (x,y), (x+w, y+h), (0, 0 , 255), 3) -> iscrtavanje faca na ulaznoj slici"
   ]
  },
  {
   "cell_type": "markdown",
   "id": "ec58a33a",
   "metadata": {},
   "source": [
    "# Pronalazenje 68 tacaka i cetriranje"
   ]
  },
  {
   "cell_type": "code",
   "execution_count": 8,
   "id": "54ef78ba",
   "metadata": {},
   "outputs": [],
   "source": [
    "predictor_model = \"shape_predictor_68_face_landmarks.dat\"\n",
    "face_pose_predictor = dlib.shape_predictor(predictor_model)\n",
    "DESIRED_LEFT_EYE = (0.35, 0.35)\n",
    "DESIRED_RIGHT_EYE = (0.65, 0.35)\n",
    "DESIRED_FACE_WIDTH = 256\n",
    "DESIRED_FACE_HEIGHT = 256"
   ]
  },
  {
   "cell_type": "code",
   "execution_count": 9,
   "id": "7ce5ba8a",
   "metadata": {},
   "outputs": [],
   "source": [
    "def align_face(img, face_rect, verbose=False):\n",
    "\n",
    "    pose_landmarks = face_pose_predictor(img, face_rect)\n",
    "    landmark_coords = to_np_array(pose_landmarks)\n",
    "\n",
    "    left_eye_coords = landmark_coords[36:41]\n",
    "    right_eye_coords = landmark_coords[42:47]\n",
    "    \n",
    "    if verbose:\n",
    "        draw_coords(img, landmark_coords)\n",
    "        draw_coords(img, left_eye_coords)\n",
    "        draw_coords(img, right_eye_coords)\n",
    "\n",
    "    left_eye_center = left_eye_coords.mean(axis=0).astype(\"int\")\n",
    "    right_eye_center = right_eye_coords.mean(axis=0).astype(\"int\")\n",
    "\n",
    "    dx = right_eye_center[1] - left_eye_center[1]\n",
    "    dy = right_eye_center[0] - left_eye_center[0]\n",
    "    angle = np.degrees(np.arctan2(dx, dy)) # - 180\n",
    "\n",
    "    dist = np.sqrt((dx * dx) + (dy * dy))\n",
    "    desiredDist = (DESIRED_RIGHT_EYE[0] - DESIRED_LEFT_EYE[0])\n",
    "    desiredDist *= DESIRED_FACE_WIDTH\n",
    "    scale = desiredDist / dist\n",
    "\n",
    "    eyes_center = ((left_eye_center[0] + right_eye_center[0]) // 2, (left_eye_center[1] + right_eye_center[1]) // 2)\n",
    "    M = cv2.getRotationMatrix2D(eyes_center, angle, scale)\n",
    "    tx = DESIRED_FACE_WIDTH * 0.5\n",
    "    ty = DESIRED_FACE_HEIGHT * DESIRED_LEFT_EYE[1]\n",
    "    M[0, 2] += (tx - eyes_center[0])\n",
    "    M[1, 2] += (ty - eyes_center[1])\n",
    "\n",
    "    (w, h) = (DESIRED_FACE_WIDTH, DESIRED_FACE_HEIGHT)\n",
    "    aligned_face = cv2.warpAffine(img, M, (w, h), flags=cv2.INTER_CUBIC)\n",
    "\n",
    "    return aligned_face"
   ]
  },
  {
   "cell_type": "markdown",
   "id": "e202314c",
   "metadata": {},
   "source": [
    "# Ekstrakcija obelezja hog-om"
   ]
  },
  {
   "cell_type": "code",
   "execution_count": 10,
   "id": "493adec5",
   "metadata": {},
   "outputs": [],
   "source": [
    "IMAGE_ROWS = 256\n",
    "IMAGE_COLS = 256\n",
    "NBINS = 9             # broj binova\n",
    "CELL_SIZE = (8, 8)    # broj piksela po celiji\n",
    "BLOCK_SIZE = (3, 3)   # broj celija po bloku"
   ]
  },
  {
   "cell_type": "code",
   "execution_count": 11,
   "id": "eec6ffff",
   "metadata": {},
   "outputs": [],
   "source": [
    "def extract_hog_features(hog, aligned_image):\n",
    "    return hog.compute(aligned_image)"
   ]
  },
  {
   "cell_type": "code",
   "execution_count": 12,
   "id": "416f8ad1",
   "metadata": {},
   "outputs": [],
   "source": [
    "hog = cv2.HOGDescriptor(_winSize=(IMAGE_COLS // CELL_SIZE[1] * CELL_SIZE[1], \n",
    "                                  IMAGE_ROWS // CELL_SIZE[0] * CELL_SIZE[0]),\n",
    "                        _blockSize=(BLOCK_SIZE[1] * CELL_SIZE[1],\n",
    "                                    BLOCK_SIZE[0] * CELL_SIZE[0]),\n",
    "                        _blockStride=(CELL_SIZE[1], CELL_SIZE[0]),\n",
    "                        _cellSize=(CELL_SIZE[1], CELL_SIZE[0]),\n",
    "                        _nbins=NBINS)"
   ]
  },
  {
   "cell_type": "markdown",
   "id": "d3e1819a",
   "metadata": {},
   "source": [
    "# Detekcija face sa haar-om"
   ]
  },
  {
   "cell_type": "code",
   "execution_count": 13,
   "id": "cc77a5b4",
   "metadata": {},
   "outputs": [],
   "source": [
    "face_cascade = cv2.CascadeClassifier('haarcascade_frontalface_default.xml')"
   ]
  },
  {
   "cell_type": "code",
   "execution_count": 14,
   "id": "6460b3b9",
   "metadata": {},
   "outputs": [],
   "source": [
    "def detect_faces_haar(img, train=False):\n",
    "    # img = loadImageAnd2Gray(img_path)\n",
    "    face_rects = []\n",
    "    \n",
    "    # 1.1  5 cv2.cv.CV_HAAR_SCALE_IMAGE\n",
    "    # scaleFactor=1.3, minNeighbors=4, minSize=(30, 30), flags=cv2.CASCADE_SCALE_IMAGE\n",
    "    faces = face_cascade.detectMultiScale(img, scaleFactor=1.3, minNeighbors=4, minSize=(100, 100), \n",
    "                                          flags=cv2.CASCADE_SCALE_IMAGE)\n",
    "\n",
    "    for (x, y , w ,h) in faces:\n",
    "        face_rect = dlib.rectangle(x, y, x + w, y + h)\n",
    "        face_rects.append(face_rect)\n",
    "    \n",
    "    return face_rects"
   ]
  },
  {
   "cell_type": "markdown",
   "id": "4bcf8b39",
   "metadata": {},
   "source": [
    "# Detekcija face sa hog-om"
   ]
  },
  {
   "cell_type": "code",
   "execution_count": 15,
   "id": "ac35e943",
   "metadata": {},
   "outputs": [],
   "source": [
    "face_detector = dlib.get_frontal_face_detector()"
   ]
  },
  {
   "cell_type": "code",
   "execution_count": 16,
   "id": "42838ce5",
   "metadata": {},
   "outputs": [],
   "source": [
    "def detect_faces_hog(img):\n",
    "    faces = face_detector(img, 1)\n",
    "    return faces"
   ]
  },
  {
   "cell_type": "markdown",
   "id": "acfc1068",
   "metadata": {},
   "source": [
    "# Ekstrakcija obelezja"
   ]
  },
  {
   "cell_type": "code",
   "execution_count": 17,
   "id": "52800f20",
   "metadata": {},
   "outputs": [],
   "source": [
    "def extract_faces(faces, img):\n",
    "    extracted_faces_features = []\n",
    "    \n",
    "    for face_rect in faces:   \n",
    "        aligned_face = align_face(img, face_rect)\n",
    "\n",
    "        extracted_face_features = extract_hog_features(hog, aligned_face)\n",
    "        extracted_faces_features.append(extracted_face_features.flatten()) # dodato .flatten()\n",
    "\n",
    "    return extracted_faces_features"
   ]
  },
  {
   "cell_type": "markdown",
   "id": "1cd5c200",
   "metadata": {},
   "source": [
    "# Treniranje modela"
   ]
  },
  {
   "cell_type": "code",
   "execution_count": 26,
   "id": "701acddc",
   "metadata": {
    "scrolled": true
   },
   "outputs": [
    {
     "data": {
      "text/plain": [
       "SVC(C=1, kernel='linear', probability=True)"
      ]
     },
     "execution_count": 26,
     "metadata": {},
     "output_type": "execute_result"
    }
   ],
   "source": [
    "from sklearn.svm import SVC\n",
    "import os\n",
    "\n",
    "image_dir = \"Train\"\n",
    "\n",
    "x_train = []\n",
    "y_train = []\n",
    "\n",
    "current_id = 0\n",
    "label_ids = {}\n",
    "\n",
    "for root, dirs, files in os.walk(image_dir):\n",
    "    for file in files:\n",
    "        path = os.path.join(root, file)\n",
    "        underscore_idx = os.path.basename(path).find('_')\n",
    "        label = os.path.basename(path)[ : underscore_idx]\n",
    "        \n",
    "        if not label in label_ids.values():\n",
    "            label_ids[current_id] = label\n",
    "            current_id += 1\n",
    "        id_ = label_ids[current_id-1]\n",
    "        \n",
    "        image = loadImageAnd2Gray(path)\n",
    "        faces = detect_faces_haar(image)\n",
    "        \n",
    "        if(len(faces)) != 1:\n",
    "            continue\n",
    "        \n",
    "        hoged = extract_faces(faces, image)\n",
    "        x_train.append(hoged[0])\n",
    "        y_train.append(id_)\n",
    "\n",
    "svm_model_linear = SVC(kernel = 'linear', C = 1)\n",
    "svm_model_linear.probability = True\n",
    "svm_model_linear.fit(x_train, y_train)\n",
    "\n",
    "# print(svm_model_linear.get_params())"
   ]
  },
  {
   "cell_type": "markdown",
   "id": "5f1ed0da",
   "metadata": {},
   "source": [
    "# Main "
   ]
  },
  {
   "cell_type": "code",
   "execution_count": 27,
   "id": "95189b4a",
   "metadata": {},
   "outputs": [],
   "source": [
    "video_path = \"Videos/Brad-Pitt_video1.mp4\"\n",
    "\n",
    "cap = cv2.VideoCapture(video_path)\n",
    "\n",
    "while True:\n",
    "    ret, frame = cap.read()\n",
    "    gray  = cv2.cvtColor(frame, cv2.COLOR_BGR2GRAY)\n",
    "    \n",
    "    faces = detect_faces_haar(gray)\n",
    "    \n",
    "    for face_rect in faces:        \n",
    "        w = face_rect.width()\n",
    "        h = face_rect.height()\n",
    "        x = face_rect.left()\n",
    "        y = face_rect.top()\n",
    "        coords = np.array([[x, y], [x + w, y], [x + w, y + h], [x, y + h]])\n",
    "        draw_coords(frame, coords)\n",
    "        \n",
    "        hoged = extract_faces([face_rect], gray)\n",
    "        \n",
    "        svm_predictions = svm_model_linear.predict_proba(np.array(hoged))\n",
    "        max_idx = np.argmax(svm_predictions)\n",
    "        max_value = svm_predictions[0][max_idx]\n",
    "        \n",
    "        if max_value >= 0.9:\n",
    "            font = cv2.FONT_HERSHEY_SIMPLEX\n",
    "            name = label_ids[max_idx]\n",
    "            name = name.replace('-', ' ')\n",
    "            color = (255, 255, 255)\n",
    "            stroke = 2\n",
    "            cv2.putText(frame, name, (x,y - 10), font, 1, color, stroke, cv2.LINE_AA)\n",
    "    \n",
    "    cv2.imshow('frame',frame)\n",
    "    if cv2.waitKey(20) & 0xFF == ord('q'):\n",
    "        break\n",
    "        \n",
    "cap.release()\n",
    "cv2.destroyAllWindows()"
   ]
  },
  {
   "cell_type": "code",
   "execution_count": 52,
   "id": "00070c1f",
   "metadata": {},
   "outputs": [],
   "source": [
    "# x_test = load_x()\n",
    "# y_test = [0, 0, 1, 1] # 3/4\n",
    "\n",
    "# svm_model_linear = SVC(kernel = 'linear', C = 1).fit(x_train, y_train)\n",
    "# svm_predictions = svm_model_linear.predict(x_test)\n",
    "# accuracy = svm_model_linear.score(x_test, y_test)\n",
    "# print(\"Preciznost: \" + str(accuracy))"
   ]
  }
 ],
 "metadata": {
  "kernelspec": {
   "display_name": "Python 3",
   "language": "python",
   "name": "python3"
  },
  "language_info": {
   "codemirror_mode": {
    "name": "ipython",
    "version": 3
   },
   "file_extension": ".py",
   "mimetype": "text/x-python",
   "name": "python",
   "nbconvert_exporter": "python",
   "pygments_lexer": "ipython3",
   "version": "3.6.13"
  }
 },
 "nbformat": 4,
 "nbformat_minor": 5
}
